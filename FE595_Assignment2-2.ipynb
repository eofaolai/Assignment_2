{
 "cells": [
  {
   "cell_type": "code",
   "execution_count": 1,
   "metadata": {},
   "outputs": [
    {
     "name": "stdout",
     "output_type": "stream",
     "text": [
      "hello world\n"
     ]
    }
   ],
   "source": [
    "from flask import flask\n",
    "app = flask(__name__)\n",
    "\n",
    "@app.route(’/hello/<name>’, methods=[’GET’])\n",
    "def hello_world(name):\n",
    "return \"Hello, {}!\".format(name)\n",
    "\n",
    "if __name__ == \"__main__\":\n",
    "app.run(host=’0.0.0.0’, port=8080)"
   ]
  },
  {
   "cell_type": "code",
   "execution_count": null,
   "metadata": {},
   "outputs": [],
   "source": [
    "from flask import flask\n",
    "app = flask(__name__)\n",
    "\n",
    "# request from url \n",
    "@app.route(’18.207.92.139:8000/random company’, methods=[’GET’])\n",
    "##def hello_world(name):\n",
    "##return \"Hello, {}!\".format(name) ##return render template?\n",
    "##GET_RESP = REQUESTS.GET(’18.207.92.139:8000/random company’,TIMEOUT)\n",
    "\n",
    "get_resp = requests.get(’18.207.92.139:8000/random company’, timeout=5)\n",
    "\n",
    "##post_resp = requests.post(URL_STRING, data=DICTIONARY)\n",
    "\n",
    "# Download the HTML of this website and extract the name and purpose of the generated company.\n",
    "# beautiful soup to parse through HTML\n",
    "# repeat x50 with sleeps\n",
    "\n",
    "## write to external file, use file handler\n",
    "with open() as fh\n",
    "    fh.write()\n",
    "\n",
    "\n",
    "if __name__ == \"__main__\":\n",
    "app.run(host=’0.0.0.0’, port=8080)"
   ]
  },
  {
   "cell_type": "code",
   "execution_count": 1,
   "metadata": {},
   "outputs": [],
   "source": [
    "from bs4 import BeautifulSoup\n",
    "import requests"
   ]
  },
  {
   "cell_type": "code",
   "execution_count": 77,
   "metadata": {},
   "outputs": [],
   "source": [
    "f= open(\"Company_site_scrape.txt\",\"w+\")\n",
    "\n",
    "for i in range(50):\n",
    "    url = 'http://174.129.86.170:8000/random_company'\n",
    "    get_resp = requests.get(url, timeout=5)\n",
    "    content = BeautifulSoup(get_resp.content, \"html.parser\")\n",
    "    text = content.get_text()\n",
    "    \n",
    "    find_name = text.find('Name:')\n",
    "    find_name = find_name + 6\n",
    "    length_name = text[find_name:].find('\\n')\n",
    "    end_name = find_name + length_name\n",
    "    pull_name = text[find_name:end_name]\n",
    "    \n",
    "    find_purpose = text.find('Purpose:')\n",
    "    find_purpose = find_purpose + 9\n",
    "    length_purpose = text[find_purpose:].find('\\n')\n",
    "    end_purpose = find_purpose + length_purpose\n",
    "    pull_purpose = text[find_purpose:end_purpose]\n",
    "    \n",
    "    \n",
    "    f.write(pull_name + \"; \" + pull_purpose + \"; \")\n",
    "        \n",
    "f.close()"
   ]
  },
  {
   "cell_type": "code",
   "execution_count": 49,
   "metadata": {
    "scrolled": true
   },
   "outputs": [
    {
     "name": "stdout",
     "output_type": "stream",
     "text": [
      "<html>\n",
      "<head>\n",
      "<title>Munoz and Sons - A Flask Website</title>\n",
      "</head>\n",
      "<body>\n",
      "<h1 align=\"center\">The profile of Munoz and Sons</h1>\n",
      "<img align=\"center\" src=\"https://www.resolutionlawng.com/wp-content/uploads/2019/04/group-of-company-img-1024x505.jpg\"/>\n",
      "<ol>\n",
      "<li>Name: Munoz and Sons</li>\n",
      "<li>CEO: Lisa Brown</li>\n",
      "<li>Purpose: Organized hybrid installation for whiteboard interactive schemas</li>\n",
      "<li>Advisor: Jerry Barajas</li>\n",
      "<li>Address: 422 Melanie Mill Apt. 609\n",
      "Lewisfurt, CO 77370</li>\n",
      "</ol>\n",
      "</body>\n",
      "</html>\n"
     ]
    }
   ],
   "source": [
    "#### code testing from this cell\n",
    "\n",
    "#reponse = requests.get(’18.207.92.139:8000/random company’, timeout=5)\n",
    "#url = ’http://18.207.92.139:8000/random_company’\n",
    "url = 'http://174.129.86.170:8000/random_company'\n",
    "get_resp = requests.get(url, timeout=5)\n",
    "content = BeautifulSoup(get_resp.content, \"html.parser\")\n",
    "\n",
    "print(content)"
   ]
  },
  {
   "cell_type": "code",
   "execution_count": 28,
   "metadata": {},
   "outputs": [
    {
     "data": {
      "text/plain": [
       "7"
      ]
     },
     "execution_count": 28,
     "metadata": {},
     "output_type": "execute_result"
    }
   ],
   "source": [
    "len(content.find(\"body\"))"
   ]
  },
  {
   "cell_type": "code",
   "execution_count": 50,
   "metadata": {},
   "outputs": [
    {
     "name": "stdout",
     "output_type": "stream",
     "text": [
      "\n",
      "\n",
      "Munoz and Sons - A Flask Website\n",
      "\n",
      "\n",
      "The profile of Munoz and Sons\n",
      "\n",
      "\n",
      "Name: Munoz and Sons\n",
      "CEO: Lisa Brown\n",
      "Purpose: Organized hybrid installation for whiteboard interactive schemas\n",
      "Advisor: Jerry Barajas\n",
      "Address: 422 Melanie Mill Apt. 609\n",
      "Lewisfurt, CO 77370\n",
      "\n",
      "\n",
      "\n"
     ]
    }
   ],
   "source": [
    "text = content.get_text()\n",
    "#soup_name = content.find('Name')\n",
    "#print(soup_name)\n",
    "print(text)\n",
    "#soup_text.find_all(text='Name')"
   ]
  },
  {
   "cell_type": "code",
   "execution_count": 70,
   "metadata": {},
   "outputs": [
    {
     "name": "stdout",
     "output_type": "stream",
     "text": [
      "75\n"
     ]
    }
   ],
   "source": [
    "find_name = text.find('Name:')\n",
    "find_name = find_name + 6\n",
    "print(find_name)"
   ]
  },
  {
   "cell_type": "code",
   "execution_count": 71,
   "metadata": {},
   "outputs": [
    {
     "data": {
      "text/plain": [
       "14"
      ]
     },
     "execution_count": 71,
     "metadata": {},
     "output_type": "execute_result"
    }
   ],
   "source": [
    "length_name = text[find_name:].find('\\n')\n",
    "length_name"
   ]
  },
  {
   "cell_type": "code",
   "execution_count": 72,
   "metadata": {},
   "outputs": [
    {
     "name": "stdout",
     "output_type": "stream",
     "text": [
      "89\n"
     ]
    }
   ],
   "source": [
    "end_name = find_name + length_name\n",
    "print(end_name)"
   ]
  },
  {
   "cell_type": "code",
   "execution_count": 73,
   "metadata": {},
   "outputs": [
    {
     "data": {
      "text/plain": [
       "'Munoz and Sons'"
      ]
     },
     "execution_count": 73,
     "metadata": {},
     "output_type": "execute_result"
    }
   ],
   "source": [
    "pull_name = text[find_name:end_name]\n",
    "pull_name\n"
   ]
  },
  {
   "cell_type": "code",
   "execution_count": 74,
   "metadata": {},
   "outputs": [
    {
     "data": {
      "text/plain": [
       "'Organized hybrid installation for whiteboard interactive schemas'"
      ]
     },
     "execution_count": 74,
     "metadata": {},
     "output_type": "execute_result"
    }
   ],
   "source": [
    "find_purpose = text.find('Purpose:')\n",
    "find_purpose = find_purpose + 9\n",
    "#print(find_purpose)\n",
    "length_purpose = text[find_purpose:].find('\\n')\n",
    "#length_purpose\n",
    "end_purpose = find_purpose + length_purpose\n",
    "#print(end_purpose)\n",
    "pull_purpose = text[find_purpose:end_purpose]\n",
    "pull_purpose"
   ]
  },
  {
   "cell_type": "code",
   "execution_count": 76,
   "metadata": {},
   "outputs": [
    {
     "name": "stdout",
     "output_type": "stream",
     "text": [
      "Munoz and Sons; Organized hybrid installation for whiteboard interactive schemas; \n"
     ]
    }
   ],
   "source": [
    "print(pull_name + \"; \" + pull_purpose + \"; \")"
   ]
  },
  {
   "cell_type": "code",
   "execution_count": null,
   "metadata": {},
   "outputs": [],
   "source": [
    "\n",
    "\n",
    "f.write(pull_name + \"; \" + pull_purpose + \"; \")"
   ]
  },
  {
   "cell_type": "code",
   "execution_count": 6,
   "metadata": {},
   "outputs": [
    {
     "ename": "AttributeError",
     "evalue": "'str' object has no attribute 'body'",
     "output_type": "error",
     "traceback": [
      "\u001b[0;31m---------------------------------------------------------------------------\u001b[0m",
      "\u001b[0;31mAttributeError\u001b[0m                            Traceback (most recent call last)",
      "\u001b[0;32m<ipython-input-6-78cc332a2a76>\u001b[0m in \u001b[0;36m<module>\u001b[0;34m\u001b[0m\n\u001b[0;32m----> 1\u001b[0;31m \u001b[0msoup_text\u001b[0m\u001b[0;34m.\u001b[0m\u001b[0mbody\u001b[0m\u001b[0;34m.\u001b[0m\u001b[0mfindAll\u001b[0m\u001b[0;34m(\u001b[0m\u001b[0mtext\u001b[0m\u001b[0;34m=\u001b[0m\u001b[0;34m'Name:'\u001b[0m\u001b[0;34m)\u001b[0m\u001b[0;34m\u001b[0m\u001b[0;34m\u001b[0m\u001b[0m\n\u001b[0m",
      "\u001b[0;31mAttributeError\u001b[0m: 'str' object has no attribute 'body'"
     ]
    }
   ],
   "source": [
    "#soup_text.body.findAll(text='Name:')"
   ]
  },
  {
   "cell_type": "code",
   "execution_count": 27,
   "metadata": {},
   "outputs": [
    {
     "name": "stdout",
     "output_type": "stream",
     "text": [
      "[<li>Name: Simmons-Hensley</li>, <li>CEO: Ernest Harvey</li>, <li>Investment Round: B</li>, <li>Purpose: User-centric discrete challenge for e-enable interactive eyeballs</li>, <li>CFO: Jimmy Howard</li>, <li>Advisor: Ronald Spence</li>]\n"
     ]
    }
   ],
   "source": [
    "#string1 = content.findAll('li')\n",
    "#print(string1)"
   ]
  },
  {
   "cell_type": "code",
   "execution_count": 29,
   "metadata": {},
   "outputs": [
    {
     "ename": "AttributeError",
     "evalue": "ResultSet object has no attribute 'find'. You're probably treating a list of items like a single item. Did you call find_all() when you meant to call find()?",
     "output_type": "error",
     "traceback": [
      "\u001b[0;31m---------------------------------------------------------------------------\u001b[0m",
      "\u001b[0;31mAttributeError\u001b[0m                            Traceback (most recent call last)",
      "\u001b[0;32m<ipython-input-29-f81923dc0661>\u001b[0m in \u001b[0;36m<module>\u001b[0;34m\u001b[0m\n\u001b[0;32m----> 1\u001b[0;31m \u001b[0mName1\u001b[0m \u001b[0;34m=\u001b[0m \u001b[0mstring1\u001b[0m\u001b[0;34m.\u001b[0m\u001b[0mfind\u001b[0m\u001b[0;34m(\u001b[0m\u001b[0;34m'Name:'\u001b[0m\u001b[0;34m)\u001b[0m\u001b[0;34m\u001b[0m\u001b[0;34m\u001b[0m\u001b[0m\n\u001b[0m\u001b[1;32m      2\u001b[0m \u001b[0mprint\u001b[0m\u001b[0;34m(\u001b[0m\u001b[0mName1\u001b[0m\u001b[0;34m)\u001b[0m\u001b[0;34m\u001b[0m\u001b[0;34m\u001b[0m\u001b[0m\n",
      "\u001b[0;32m~/anaconda3/lib/python3.7/site-packages/bs4/element.py\u001b[0m in \u001b[0;36m__getattr__\u001b[0;34m(self, key)\u001b[0m\n\u001b[1;32m   1618\u001b[0m     \u001b[0;32mdef\u001b[0m \u001b[0m__getattr__\u001b[0m\u001b[0;34m(\u001b[0m\u001b[0mself\u001b[0m\u001b[0;34m,\u001b[0m \u001b[0mkey\u001b[0m\u001b[0;34m)\u001b[0m\u001b[0;34m:\u001b[0m\u001b[0;34m\u001b[0m\u001b[0;34m\u001b[0m\u001b[0m\n\u001b[1;32m   1619\u001b[0m         raise AttributeError(\n\u001b[0;32m-> 1620\u001b[0;31m             \u001b[0;34m\"ResultSet object has no attribute '%s'. You're probably treating a list of items like a single item. Did you call find_all() when you meant to call find()?\"\u001b[0m \u001b[0;34m%\u001b[0m \u001b[0mkey\u001b[0m\u001b[0;34m\u001b[0m\u001b[0;34m\u001b[0m\u001b[0m\n\u001b[0m\u001b[1;32m   1621\u001b[0m         )\n",
      "\u001b[0;31mAttributeError\u001b[0m: ResultSet object has no attribute 'find'. You're probably treating a list of items like a single item. Did you call find_all() when you meant to call find()?"
     ]
    }
   ],
   "source": [
    "#Name1 = string1.find('Name:')\n",
    "#print(Name1)"
   ]
  },
  {
   "cell_type": "code",
   "execution_count": 28,
   "metadata": {},
   "outputs": [
    {
     "name": "stdout",
     "output_type": "stream",
     "text": [
      "[]\n"
     ]
    }
   ],
   "source": [
    "#Name1 = content.findAll('li', attrs={'class':'name'})\n",
    "#print(Name1)"
   ]
  },
  {
   "cell_type": "code",
   "execution_count": null,
   "metadata": {},
   "outputs": [],
   "source": [
    "### Resource citations: \n",
    "### https://hackernoon.com/building-a-web-scraper-from-start-to-finish-bb6b95388184\n",
    "### https://realpython.com/beautiful-soup-web-scraper-python/\n",
    "### https://www.guru99.com/reading-and-writing-files-in-python.html"
   ]
  },
  {
   "cell_type": "code",
   "execution_count": null,
   "metadata": {},
   "outputs": [],
   "source": [
    "### 1. Make a request to “18.207.92.139:8000/random company”\n",
    "### 2. Extract the company name and company purpose\n",
    "### 3. Repeat this process 50 times\n",
    "\n",
    "### save to file"
   ]
  }
 ],
 "metadata": {
  "kernelspec": {
   "display_name": "Python 3",
   "language": "python",
   "name": "python3"
  },
  "language_info": {
   "codemirror_mode": {
    "name": "ipython",
    "version": 3
   },
   "file_extension": ".py",
   "mimetype": "text/x-python",
   "name": "python",
   "nbconvert_exporter": "python",
   "pygments_lexer": "ipython3",
   "version": "3.7.3"
  }
 },
 "nbformat": 4,
 "nbformat_minor": 2
}
