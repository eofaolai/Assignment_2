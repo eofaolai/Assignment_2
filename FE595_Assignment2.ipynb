{
 "cells": [
  {
   "cell_type": "code",
   "execution_count": 1,
   "metadata": {},
   "outputs": [
    {
     "name": "stdout",
     "output_type": "stream",
     "text": [
      "hello world\n"
     ]
    }
   ],
   "source": [
    "from flask import flask\n",
    "app = flask(__name__)\n",
    "\n",
    "@app.route(’/hello/<name>’, methods=[’GET’])\n",
    "def hello_world(name):\n",
    "return \"Hello, {}!\".format(name)\n",
    "\n",
    "if __name__ == \"__main__\":\n",
    "app.run(host=’0.0.0.0’, port=8080)"
   ]
  },
  {
   "cell_type": "code",
   "execution_count": null,
   "metadata": {},
   "outputs": [],
   "source": [
    "from flask import flask\n",
    "app = flask(__name__)\n",
    "\n",
    "# request from url \n",
    "@app.route(’18.207.92.139:8000/random company’, methods=[’GET’])\n",
    "##def hello_world(name):\n",
    "##return \"Hello, {}!\".format(name) ##return render template?\n",
    "##GET_RESP = REQUESTS.GET(’18.207.92.139:8000/random company’,TIMEOUT)\n",
    "\n",
    "get_resp = requests.get(’18.207.92.139:8000/random company’, timeout=5)\n",
    "\n",
    "##post_resp = requests.post(URL_STRING, data=DICTIONARY)\n",
    "\n",
    "# Download the HTML of this website and extract the name and purpose of the generated company.\n",
    "# beautiful soup to parse through HTML\n",
    "# repeat x50 with sleeps\n",
    "\n",
    "## write to external file, use file handler\n",
    "with open() as fh\n",
    "    fh.write()\n",
    "\n",
    "\n",
    "if __name__ == \"__main__\":\n",
    "app.run(host=’0.0.0.0’, port=8080)"
   ]
  },
  {
   "cell_type": "code",
   "execution_count": 7,
   "metadata": {},
   "outputs": [],
   "source": [
    "from bs4 import BeautifulSoup\n",
    "import requests"
   ]
  },
  {
   "cell_type": "code",
   "execution_count": 17,
   "metadata": {},
   "outputs": [
    {
     "name": "stdout",
     "output_type": "stream",
     "text": [
      "<html>\n",
      "<head>\n",
      "<title>Simmons-Hensley - A Flask Website</title>\n",
      "</head>\n",
      "<body>\n",
      "<h1 align=\"center\">The profile of Simmons-Hensley</h1>\n",
      "<img align=\"center\" src=\"https://www.resolutionlawng.com/wp-content/uploads/2019/04/group-of-company-img-1024x505.jpg\"/>\n",
      "<ol>\n",
      "<li>Name: Simmons-Hensley</li>\n",
      "<li>CEO: Ernest Harvey</li>\n",
      "<li>Investment Round: B</li>\n",
      "<li>Purpose: User-centric discrete challenge for e-enable interactive eyeballs</li>\n",
      "<li>CFO: Jimmy Howard</li>\n",
      "<li>Advisor: Ronald Spence</li>\n",
      "</ol>\n",
      "</body>\n",
      "</html>\n"
     ]
    }
   ],
   "source": [
    "#reponse = requests.get(’18.207.92.139:8000/random company’, timeout=5)\n",
    "#url = ’http://18.207.92.139:8000/random_company’\n",
    "    url = 'http://18.207.92.139:8000/random_company'\n",
    "    get_resp = requests.get(url, timeout=5)\n",
    "    content = BeautifulSoup(get_resp.content, \"html.parser\")\n",
    "\n",
    "    print(content)"
   ]
  },
  {
   "cell_type": "code",
   "execution_count": 27,
   "metadata": {},
   "outputs": [
    {
     "name": "stdout",
     "output_type": "stream",
     "text": [
      "[<li>Name: Simmons-Hensley</li>, <li>CEO: Ernest Harvey</li>, <li>Investment Round: B</li>, <li>Purpose: User-centric discrete challenge for e-enable interactive eyeballs</li>, <li>CFO: Jimmy Howard</li>, <li>Advisor: Ronald Spence</li>]\n"
     ]
    }
   ],
   "source": [
    "string1 = content.findAll('li')\n",
    "print(string1)"
   ]
  },
  {
   "cell_type": "code",
   "execution_count": 29,
   "metadata": {},
   "outputs": [
    {
     "ename": "AttributeError",
     "evalue": "ResultSet object has no attribute 'find'. You're probably treating a list of items like a single item. Did you call find_all() when you meant to call find()?",
     "output_type": "error",
     "traceback": [
      "\u001b[0;31m---------------------------------------------------------------------------\u001b[0m",
      "\u001b[0;31mAttributeError\u001b[0m                            Traceback (most recent call last)",
      "\u001b[0;32m<ipython-input-29-f81923dc0661>\u001b[0m in \u001b[0;36m<module>\u001b[0;34m\u001b[0m\n\u001b[0;32m----> 1\u001b[0;31m \u001b[0mName1\u001b[0m \u001b[0;34m=\u001b[0m \u001b[0mstring1\u001b[0m\u001b[0;34m.\u001b[0m\u001b[0mfind\u001b[0m\u001b[0;34m(\u001b[0m\u001b[0;34m'Name:'\u001b[0m\u001b[0;34m)\u001b[0m\u001b[0;34m\u001b[0m\u001b[0;34m\u001b[0m\u001b[0m\n\u001b[0m\u001b[1;32m      2\u001b[0m \u001b[0mprint\u001b[0m\u001b[0;34m(\u001b[0m\u001b[0mName1\u001b[0m\u001b[0;34m)\u001b[0m\u001b[0;34m\u001b[0m\u001b[0;34m\u001b[0m\u001b[0m\n",
      "\u001b[0;32m~/anaconda3/lib/python3.7/site-packages/bs4/element.py\u001b[0m in \u001b[0;36m__getattr__\u001b[0;34m(self, key)\u001b[0m\n\u001b[1;32m   1618\u001b[0m     \u001b[0;32mdef\u001b[0m \u001b[0m__getattr__\u001b[0m\u001b[0;34m(\u001b[0m\u001b[0mself\u001b[0m\u001b[0;34m,\u001b[0m \u001b[0mkey\u001b[0m\u001b[0;34m)\u001b[0m\u001b[0;34m:\u001b[0m\u001b[0;34m\u001b[0m\u001b[0;34m\u001b[0m\u001b[0m\n\u001b[1;32m   1619\u001b[0m         raise AttributeError(\n\u001b[0;32m-> 1620\u001b[0;31m             \u001b[0;34m\"ResultSet object has no attribute '%s'. You're probably treating a list of items like a single item. Did you call find_all() when you meant to call find()?\"\u001b[0m \u001b[0;34m%\u001b[0m \u001b[0mkey\u001b[0m\u001b[0;34m\u001b[0m\u001b[0;34m\u001b[0m\u001b[0m\n\u001b[0m\u001b[1;32m   1621\u001b[0m         )\n",
      "\u001b[0;31mAttributeError\u001b[0m: ResultSet object has no attribute 'find'. You're probably treating a list of items like a single item. Did you call find_all() when you meant to call find()?"
     ]
    }
   ],
   "source": [
    "Name1 = string1.find('Name:')\n",
    "print(Name1)"
   ]
  },
  {
   "cell_type": "code",
   "execution_count": 28,
   "metadata": {},
   "outputs": [
    {
     "name": "stdout",
     "output_type": "stream",
     "text": [
      "[]\n"
     ]
    }
   ],
   "source": [
    "Name1 = content.findAll('li', attrs={'class':'name'})\n",
    "print(Name1)"
   ]
  },
  {
   "cell_type": "code",
   "execution_count": null,
   "metadata": {},
   "outputs": [],
   "source": [
    "### Resource citation: https://hackernoon.com/building-a-web-scraper-from-start-to-finish-bb6b95388184"
   ]
  },
  {
   "cell_type": "code",
   "execution_count": null,
   "metadata": {},
   "outputs": [],
   "source": [
    "### 1. Make a request to “18.207.92.139:8000/random company”\n",
    "### 2. Extract the company name and company purpose\n",
    "### 3. Repeat this process 50 times\n",
    "\n",
    "### save to file"
   ]
  }
 ],
 "metadata": {
  "kernelspec": {
   "display_name": "Python 3",
   "language": "python",
   "name": "python3"
  },
  "language_info": {
   "codemirror_mode": {
    "name": "ipython",
    "version": 3
   },
   "file_extension": ".py",
   "mimetype": "text/x-python",
   "name": "python",
   "nbconvert_exporter": "python",
   "pygments_lexer": "ipython3",
   "version": "3.7.3"
  }
 },
 "nbformat": 4,
 "nbformat_minor": 2
}
